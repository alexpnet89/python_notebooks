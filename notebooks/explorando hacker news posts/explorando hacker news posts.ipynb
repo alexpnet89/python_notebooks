{
 "cells": [
  {
   "cell_type": "markdown",
   "id": "0a423e86",
   "metadata": {},
   "source": [
    "Hacker news é um site criado pela startup **incubator**, onde histórias enviadas por usuários (também conhecidas como posts), obtém votos e comentários, similar ao reddit. Hacker News é popular em circulos de tecnologias e startups, a posts que estão no topo das listas podem chegar a milhares de visitantes como resultado.\n",
    "\n",
    "O dataset pode ser encontrado [aqui](https://www.kaggle.com/hacker-news/hacker-news-posts), mas perceba que foi reduzido de 300.000 linhas para aproximadamente 20.000 removendo todos os envios que não tiveram nenhum comentário, e depois foram pegos alguns posts aleatoriamente.\n",
    "\n",
    "Essas são as descrições das colunas:\n",
    "\n",
    "- id: Identificador unico do Hacker News para o post\n",
    "- title: O titulo do post\n",
    "- url: A URL do post, se o post tiver uma\n",
    "- num_points: O número de pontos ganhos, calculado pelo total de \"upvotes\" menos o total de \"downvotes\"\n",
    "- num_comments: A quantidade de comentários que foi feito no post\n",
    "- author: O username da pessoa que enviou o post\n",
    "- created_at: Data e hora que o post foi enviado\n",
    "\n",
    "Estamos especificamente interessados em posts do tipo **Ask HN** ou **Show HN**.\n",
    "Usuários enviam **Ask HN** posts para fazer uma pergunta especifica.\n",
    "Por outro lado, usuários enviam **Show HN** posts para mostrar à comunidade um projeto, produto ou compartilhar algo interessante.\n",
    "\n",
    "Vamos comparar esses dois tipos para determinar:\n",
    "- Quais deles recebem mais comentários em média?\n",
    "- Posts criados em um certo horario recebem em média mais comentários?"
   ]
  },
  {
   "cell_type": "code",
   "execution_count": 1,
   "id": "d5114820",
   "metadata": {},
   "outputs": [],
   "source": [
    "# lendo o arquivo\n",
    "from csv import reader\n",
    "opened_file = open('hacker_news.csv', encoding='utf-8')\n",
    "\n",
    "# transformando os dados do arquivo em uma lista\n",
    "read_file = reader(opened_file)\n",
    "hn = list(read_file)\n"
   ]
  },
  {
   "cell_type": "code",
   "execution_count": 2,
   "id": "8c728455",
   "metadata": {},
   "outputs": [],
   "source": [
    "# separar o header em uma variavel\n",
    "headers = hn[0]\n",
    "\n",
    "# o restante do dataset em outra variavel\n",
    "hn = hn[1:]"
   ]
  },
  {
   "cell_type": "code",
   "execution_count": 3,
   "id": "1ba4bb6f",
   "metadata": {},
   "outputs": [],
   "source": [
    "# criando listas separadas pra cada tipo de post\n",
    "ask_posts = []\n",
    "show_posts = []\n",
    "other_posts = []"
   ]
  },
  {
   "cell_type": "code",
   "execution_count": 4,
   "id": "7002e320",
   "metadata": {},
   "outputs": [],
   "source": [
    "for post in hn:\n",
    "    title = post[1].lower()\n",
    "    if title.startswith('ask hn'):\n",
    "        ask_posts.append(post)\n",
    "    elif title.startswith('show hn'):\n",
    "        show_posts.append(post)\n",
    "    else:\n",
    "        other_posts.append(post)"
   ]
  },
  {
   "cell_type": "code",
   "execution_count": 5,
   "id": "5231654e",
   "metadata": {},
   "outputs": [
    {
     "name": "stdout",
     "output_type": "stream",
     "text": [
      "Ask Posts: 9139\n",
      "Show Posts: 10158\n",
      "Other Posts: 273822\n"
     ]
    }
   ],
   "source": [
    "print('Ask Posts:', len(ask_posts))\n",
    "print('Show Posts:', len(show_posts))\n",
    "print('Other Posts:', len(other_posts))"
   ]
  },
  {
   "cell_type": "markdown",
   "id": "4b9954ec",
   "metadata": {},
   "source": [
    "Agora vou procurar saber o total de comentários pra cada tipo de post, começando pelos posts **Ask HN**"
   ]
  },
  {
   "cell_type": "code",
   "execution_count": 6,
   "id": "6b111924",
   "metadata": {},
   "outputs": [
    {
     "name": "stdout",
     "output_type": "stream",
     "text": [
      "Total de comentários nos Posts Aks HN: 94986\n",
      "Média dos comentários nos Posts Ask HN: 10.393478498741656\n"
     ]
    }
   ],
   "source": [
    "total_ask_comments = 0\n",
    "for post in ask_posts:\n",
    "    num_comments = int(post[4])\n",
    "    total_ask_comments += num_comments\n",
    "avg_ask_comments = total_ask_comments / len(ask_posts)\n",
    "\n",
    "print('Total de comentários nos Posts Aks HN:', total_ask_comments)\n",
    "print('Média dos comentários nos Posts Ask HN:', avg_ask_comments)"
   ]
  },
  {
   "cell_type": "markdown",
   "id": "fb66451c",
   "metadata": {},
   "source": [
    "Agora fazendo para os Posts **Show HN**"
   ]
  },
  {
   "cell_type": "code",
   "execution_count": 7,
   "id": "891c37c0",
   "metadata": {
    "scrolled": true
   },
   "outputs": [
    {
     "name": "stdout",
     "output_type": "stream",
     "text": [
      "Total de comentários nos Posts Aks HN: 49633\n",
      "Média dos comentários nos Posts Ask HN: 4.886099625910612\n"
     ]
    }
   ],
   "source": [
    "total_show_comments = 0\n",
    "for post in show_posts:\n",
    "    num_comments = int(post[4])\n",
    "    total_show_comments += num_comments\n",
    "avg_show_comments = total_show_comments / len(show_posts)\n",
    "\n",
    "print('Total de comentários nos Posts Aks HN:', total_show_comments)\n",
    "print('Média dos comentários nos Posts Ask HN:', avg_show_comments)"
   ]
  },
  {
   "cell_type": "markdown",
   "id": "67126fd9",
   "metadata": {},
   "source": [
    "A média dos Posts **Ask HN** é maior que a média dos posts **Show HN**, vamos focar o restante da análise nesse tipo de post. \n",
    "Agora vamos determinar se os Ask Posts criados em certos horários pode atrair maior número de comentários.\n",
    "Vamos fazer da seguinte forma:\n",
    "\n",
    "1. Calcular a quantidade de posts criada em cada hora do dia, e checar o número de comentários recebidos.\n",
    "2. Calcular a média no número de comentários recebidos pelo horário criado"
   ]
  },
  {
   "cell_type": "code",
   "execution_count": 8,
   "id": "e072e606",
   "metadata": {},
   "outputs": [],
   "source": [
    "import datetime as dt"
   ]
  },
  {
   "cell_type": "code",
   "execution_count": 9,
   "id": "d0bd27e1",
   "metadata": {},
   "outputs": [
    {
     "name": "stdout",
     "output_type": "stream",
     "text": [
      "{'02': 269, '01': 282, '22': 383, '21': 518, '19': 552, '17': 587, '15': 646, '14': 513, '13': 444, '11': 312, '10': 282, '09': 222, '07': 226, '03': 271, '23': 343, '20': 510, '16': 579, '08': 257, '00': 301, '18': 614, '12': 342, '04': 243, '06': 234, '05': 209}\n",
      "\n",
      "{'02': 2996, '01': 2089, '22': 3372, '21': 4500, '19': 3954, '17': 5547, '15': 18525, '14': 4972, '13': 7245, '11': 2797, '10': 3013, '09': 1477, '07': 1585, '03': 2154, '23': 2297, '20': 4462, '16': 4466, '08': 2362, '00': 2277, '18': 4877, '12': 4234, '04': 2360, '06': 1587, '05': 1838}\n"
     ]
    }
   ],
   "source": [
    "result_list = []\n",
    "for post in ask_posts:\n",
    "    created_at = post[6]\n",
    "    num_comments = int(post[4])\n",
    "    n_list = [created_at, num_comments]\n",
    "    result_list.append(n_list)\n",
    "    \n",
    "counts_by_hour = {}\n",
    "comments_by_hour = {}\n",
    "\n",
    "for result in result_list:\n",
    "    date_and_time = result[0]\n",
    "    date_and_time = dt.datetime.strptime(date_and_time, '%m/%d/%Y %H:%M')\n",
    "    hour = date_and_time.strftime('%H')\n",
    "    if hour not in counts_by_hour:\n",
    "        counts_by_hour[hour] = 1\n",
    "        comments_by_hour[hour] = int(result[1])\n",
    "    else:\n",
    "        counts_by_hour[hour] = counts_by_hour[hour] + 1\n",
    "        comments_by_hour[hour] = comments_by_hour[hour] + int(result[1])\n",
    "        \n",
    "print(counts_by_hour)\n",
    "print('')\n",
    "print(comments_by_hour)"
   ]
  },
  {
   "cell_type": "code",
   "execution_count": 10,
   "id": "9a65d8e7",
   "metadata": {},
   "outputs": [
    {
     "data": {
      "text/plain": [
       "[['02', 11.137546468401487],\n",
       " ['01', 7.407801418439717],\n",
       " ['22', 8.804177545691905],\n",
       " ['21', 8.687258687258687],\n",
       " ['19', 7.163043478260869],\n",
       " ['17', 9.449744463373083],\n",
       " ['15', 28.676470588235293],\n",
       " ['14', 9.692007797270955],\n",
       " ['13', 16.31756756756757],\n",
       " ['11', 8.96474358974359],\n",
       " ['10', 10.684397163120567],\n",
       " ['09', 6.653153153153153],\n",
       " ['07', 7.013274336283186],\n",
       " ['03', 7.948339483394834],\n",
       " ['23', 6.696793002915452],\n",
       " ['20', 8.749019607843136],\n",
       " ['16', 7.713298791018998],\n",
       " ['08', 9.190661478599221],\n",
       " ['00', 7.5647840531561465],\n",
       " ['18', 7.94299674267101],\n",
       " ['12', 12.380116959064328],\n",
       " ['04', 9.7119341563786],\n",
       " ['06', 6.782051282051282],\n",
       " ['05', 8.794258373205741]]"
      ]
     },
     "execution_count": 10,
     "metadata": {},
     "output_type": "execute_result"
    }
   ],
   "source": [
    "avg_by_hour = []\n",
    "for hour in comments_by_hour:\n",
    "    avg_comments = comments_by_hour[hour] / counts_by_hour[hour]\n",
    "    avg_by_hour.append([hour, avg_comments])\n",
    "    \n",
    "avg_by_hour"
   ]
  },
  {
   "cell_type": "markdown",
   "id": "ebef5296",
   "metadata": {},
   "source": [
    "A lista com o resultado da média de comentários por hora foi gerada, ficou um pouco dificil de identificar os horarios com maior média, vou ordenar os resultados e mostrar as 5 maiores médias"
   ]
  },
  {
   "cell_type": "code",
   "execution_count": 11,
   "id": "64b5f259",
   "metadata": {},
   "outputs": [
    {
     "name": "stdout",
     "output_type": "stream",
     "text": [
      "Top 5 horário para comentários de Ask HN\n",
      "15:00: 28.68 comentários em média por post\n",
      "13:00: 16.32 comentários em média por post\n",
      "12:00: 12.38 comentários em média por post\n",
      "02:00: 11.14 comentários em média por post\n",
      "10:00: 10.68 comentários em média por post\n"
     ]
    }
   ],
   "source": [
    "swap_avg_by_hour = []\n",
    "for row in avg_by_hour:\n",
    "    swap_avg_by_hour.append([row[1], row[0]])\n",
    "\n",
    "sorted_swap = sorted(swap_avg_by_hour, reverse=True)\n",
    "print('Top 5 horário para comentários de Ask HN')\n",
    "\n",
    "for row in sorted_swap[:5]:\n",
    "    avg_comments = row[0]\n",
    "    date_time = row[1]\n",
    "    date_time = dt.datetime.strptime(date_time, '%H')\n",
    "    date_time = date_time.strftime('%H:%M')\n",
    "    print('{}: {:.2f} comentários em média por post'.format(date_time, avg_comments))\n",
    "    \n",
    "    "
   ]
  }
 ],
 "metadata": {
  "kernelspec": {
   "display_name": "Python 3",
   "language": "python",
   "name": "python3"
  },
  "language_info": {
   "codemirror_mode": {
    "name": "ipython",
    "version": 3
   },
   "file_extension": ".py",
   "mimetype": "text/x-python",
   "name": "python",
   "nbconvert_exporter": "python",
   "pygments_lexer": "ipython3",
   "version": "3.8.8"
  }
 },
 "nbformat": 4,
 "nbformat_minor": 5
}
