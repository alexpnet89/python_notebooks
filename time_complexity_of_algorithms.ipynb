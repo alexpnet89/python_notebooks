{
 "cells": [
  {
   "cell_type": "code",
   "execution_count": 7,
   "id": "e10ddc96",
   "metadata": {},
   "outputs": [],
   "source": [
    "import timeit\n",
    "import time\n",
    "import random\n",
    "import matplotlib.pyplot as plt"
   ]
  },
  {
   "cell_type": "markdown",
   "id": "c465839a",
   "metadata": {},
   "source": [
    "Given a list of numbers, outputs the maximum value of that list"
   ]
  },
  {
   "cell_type": "code",
   "execution_count": 8,
   "id": "6834dde5",
   "metadata": {},
   "outputs": [],
   "source": [
    "test_values = [4, 3, 5, 6, 2, 1]\n",
    "\n",
    "def maximum(values):\n",
    "    answer = None\n",
    "    for value in values:\n",
    "        if answer == None or answer < value:\n",
    "            answer = value\n",
    "    return answer"
   ]
  },
  {
   "cell_type": "markdown",
   "id": "66cb7d83",
   "metadata": {},
   "source": [
    "Let's try it out and measure the runtime of the `maximum()` function that we wrote on the previous cell!"
   ]
  },
  {
   "cell_type": "code",
   "execution_count": 9,
   "id": "ebf98e73",
   "metadata": {},
   "outputs": [],
   "source": [
    "start = time.time()\n",
    "\n",
    "max_value = maximum(test_values)\n",
    "\n",
    "end = time.time()\n",
    "runtime = end - start"
   ]
  },
  {
   "cell_type": "markdown",
   "id": "8579b2f7",
   "metadata": {},
   "source": [
    "Since we want to be able to generate inputs of lengths 1 to 500, it is convenient to define a function that takes as input a length and outputs a random list of the given length:"
   ]
  },
  {
   "cell_type": "code",
   "execution_count": 10,
   "id": "d0d73f7a",
   "metadata": {},
   "outputs": [],
   "source": [
    "def gen_input(length):\n",
    "    return [random.randint(-1000, 1000) for _ in range(length)]"
   ]
  },
  {
   "cell_type": "markdown",
   "id": "dfb79abd",
   "metadata": {},
   "source": [
    "Let's measure the execution time of the `maximum()` function on random input lists from length 1 to 500"
   ]
  },
  {
   "cell_type": "code",
   "execution_count": 12,
   "id": "d6d6a672",
   "metadata": {},
   "outputs": [],
   "source": [
    "times = []\n",
    "\n",
    "for length in range(1, 501):\n",
    "    values = gen_input(length)\n",
    "    start = time.time()\n",
    "    maximum(values)\n",
    "    end = time.time()\n",
    "    runtime = end - start\n",
    "    times.append(runtime)\n",
    "    "
   ]
  },
  {
   "cell_type": "markdown",
   "id": "80979719",
   "metadata": {},
   "source": [
    "We can analyze the time complexity of the following function that computes the sum of all values in a given list:"
   ]
  },
  {
   "cell_type": "code",
   "execution_count": 13,
   "id": "3273676c",
   "metadata": {},
   "outputs": [],
   "source": [
    "def sum_values(values):\n",
    "    total = 0            \n",
    "    for value in values: \n",
    "        total += value   \n",
    "    return total"
   ]
  },
  {
   "cell_type": "code",
   "execution_count": 16,
   "id": "77340d7d",
   "metadata": {
    "scrolled": true
   },
   "outputs": [],
   "source": [
    "times = []\n",
    "for length in range(1, 501):\n",
    "    values = gen_input(length)\n",
    "    start = timeit.default_timer()\n",
    "    sum_values(values)    \n",
    "    end = timeit.default_timer()\n",
    "    runtime = end - start\n",
    "    times.append(runtime)"
   ]
  },
  {
   "cell_type": "markdown",
   "id": "1d4fc0b8",
   "metadata": {},
   "source": [
    "`plot_times()` function can be used to plot the execution times"
   ]
  },
  {
   "cell_type": "code",
   "execution_count": 15,
   "id": "7c1e2360",
   "metadata": {},
   "outputs": [
    {
     "data": {
      "image/png": "[encoded data removed]",
      "text/plain": [
       "<Figure size 432x288 with 1 Axes>"
      ]
     },
     "metadata": {
      "needs_background": "light"
     },
     "output_type": "display_data"
    }
   ],
   "source": [
    "def plot_times(times):\n",
    "    plt.plot(times)\n",
    "    plt.ylabel('runtime')\n",
    "    plt.xlabel('size')\n",
    "    plt.show()\n",
    "    \n",
    "plot_times(times)    "
   ]
  },
  {
   "cell_type": "code",
   "execution_count": null,
   "id": "9def5cc2",
   "metadata": {},
   "outputs": [],
   "source": []
  }
 ],
 "metadata": {
  "kernelspec": {
   "display_name": "Python 3",
   "language": "python",
   "name": "python3"
  },
  "language_info": {
   "codemirror_mode": {
    "name": "ipython",
    "version": 3
   },
   "file_extension": ".py",
   "mimetype": "text/x-python",
   "name": "python",
   "nbconvert_exporter": "python",
   "pygments_lexer": "ipython3",
   "version": "3.8.8"
  }
 },
 "nbformat": 4,
 "nbformat_minor": 5
}
